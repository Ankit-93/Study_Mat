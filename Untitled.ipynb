{
 "cells": [
  {
   "cell_type": "markdown",
   "id": "1c01fa2a",
   "metadata": {},
   "source": [
    "# DECORATOR"
   ]
  },
  {
   "cell_type": "code",
   "execution_count": 17,
   "id": "30783533",
   "metadata": {},
   "outputs": [
    {
     "name": "stdout",
     "output_type": "stream",
     "text": [
      "First Block of func2\n",
      "We are in func1\n",
      "Second block of func2\n"
     ]
    }
   ],
   "source": [
    "def func2(func1):\n",
    "    print('First Block of func2')\n",
    "    func1()\n",
    "    print('Second block of func2')\n",
    "\n",
    "    \n",
    "@func2\n",
    "def func1():\n",
    "    print('We are in func1')"
   ]
  },
  {
   "cell_type": "code",
   "execution_count": 21,
   "id": "08473cda",
   "metadata": {},
   "outputs": [
    {
     "name": "stdout",
     "output_type": "stream",
     "text": [
      "This is good Rohan\n"
     ]
    }
   ],
   "source": [
    "class Employee:\n",
    "    \n",
    "    \n",
    "\n",
    "    def __init__(self, aname, asalary,arole):\n",
    "        self.name = aname\n",
    "        self.salary = asalary\n",
    "        self.role = arole\n",
    "\n",
    "    def printdetails(self):\n",
    "        return f\"The Name is {self.name} , salary is {self.salary} , role is {self.role}\"\n",
    "\n",
    "    @classmethod\n",
    "    def change_leaves(cls, newleaves):\n",
    "        cls.no_of_leaves = newleaves\n",
    "\n",
    "    @classmethod\n",
    "    def from_dash(cls, string):\n",
    "        return cls(*string.split(\"-\"))\n",
    "\n",
    "    @staticmethod\n",
    "    def printgood(string):\n",
    "        print(\"This is good \" + string)\n",
    "\n",
    "harry = Employee(\"Harry\", 255, \"Instructor\")\n",
    "rohan = Employee(\"Rohan\", 455, \"Student\")\n",
    "karan = Employee.from_dash(\"Karan-480-Student\")"
   ]
  },
  {
   "cell_type": "code",
   "execution_count": 22,
   "id": "857ef985",
   "metadata": {},
   "outputs": [
    {
     "name": "stdout",
     "output_type": "stream",
     "text": [
      "This is good Rohan\n"
     ]
    }
   ],
   "source": [
    "Employee.printgood(\"Rohan\")"
   ]
  },
  {
   "cell_type": "code",
   "execution_count": 64,
   "id": "021f9546",
   "metadata": {},
   "outputs": [],
   "source": [
    "from abc import ABC,abstractmethod\n",
    "class Circle(ABC):\n",
    "    @abstractmethod\n",
    "    def printarea(self):\n",
    "        return 'This is Abstract Method'\n",
    "class Rectangle(Circle):\n",
    "    sides=4\n",
    "    def __init__(self):\n",
    "        self.length = 7\n",
    "        self.width = 8\n",
    "        \n",
    "    def printarea(self):\n",
    "        area = self.length * self.width\n",
    "        return 'This is the area '+str(area)"
   ]
  },
  {
   "cell_type": "code",
   "execution_count": 65,
   "id": "34a28344",
   "metadata": {},
   "outputs": [],
   "source": [
    "a = Rectangle()\n",
    "a.printarea()"
   ]
  },
  {
   "cell_type": "code",
   "execution_count": 66,
   "id": "c6256e69",
   "metadata": {},
   "outputs": [
    {
     "data": {
      "text/plain": [
       "'This is the area 56'"
      ]
     },
     "execution_count": 66,
     "metadata": {},
     "output_type": "execute_result"
    }
   ],
   "source": []
  },
  {
   "cell_type": "code",
   "execution_count": 67,
   "id": "10981512",
   "metadata": {},
   "outputs": [],
   "source": [
    "class Geek:\n",
    "    def __init__(self, age = 0):\n",
    "         self._age = age\n",
    "      \n",
    "    # getter method\n",
    "    def get_age(self):\n",
    "        return self._age\n",
    "      \n",
    "    # setter method\n",
    "    def set_age(self, x):\n",
    "        self._age = x\n",
    "  \n",
    "r = Geek()\n",
    "  \n",
    "# setting the age using setter\n",
    "r.set_age(21)"
   ]
  },
  {
   "cell_type": "code",
   "execution_count": 68,
   "id": "d64affa7",
   "metadata": {},
   "outputs": [
    {
     "name": "stdout",
     "output_type": "stream",
     "text": [
      "21\n"
     ]
    }
   ],
   "source": [
    "print(r.get_age())"
   ]
  },
  {
   "cell_type": "code",
   "execution_count": null,
   "id": "f29fa1b5",
   "metadata": {},
   "outputs": [],
   "source": []
  }
 ],
 "metadata": {
  "kernelspec": {
   "display_name": "Python 3 (ipykernel)",
   "language": "python",
   "name": "python3"
  },
  "language_info": {
   "codemirror_mode": {
    "name": "ipython",
    "version": 3
   },
   "file_extension": ".py",
   "mimetype": "text/x-python",
   "name": "python",
   "nbconvert_exporter": "python",
   "pygments_lexer": "ipython3",
   "version": "3.9.7"
  }
 },
 "nbformat": 4,
 "nbformat_minor": 5
}
